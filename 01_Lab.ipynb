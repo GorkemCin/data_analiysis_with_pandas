{
 "cells": [
  {
   "cell_type": "code",
   "execution_count": 4,
   "id": "9d07bcfc",
   "metadata": {},
   "outputs": [],
   "source": [
    "import pandas as pd"
   ]
  },
  {
   "cell_type": "code",
   "execution_count": 7,
   "id": "7a17e435",
   "metadata": {},
   "outputs": [
    {
     "data": {
      "text/html": [
       "<div>\n",
       "<style scoped>\n",
       "    .dataframe tbody tr th:only-of-type {\n",
       "        vertical-align: middle;\n",
       "    }\n",
       "\n",
       "    .dataframe tbody tr th {\n",
       "        vertical-align: top;\n",
       "    }\n",
       "\n",
       "    .dataframe thead th {\n",
       "        text-align: right;\n",
       "    }\n",
       "</style>\n",
       "<table border=\"1\" class=\"dataframe\">\n",
       "  <thead>\n",
       "    <tr style=\"text-align: right;\">\n",
       "      <th></th>\n",
       "      <th>CategoryID</th>\n",
       "      <th>CategoryName</th>\n",
       "      <th>Description</th>\n",
       "    </tr>\n",
       "  </thead>\n",
       "  <tbody>\n",
       "    <tr>\n",
       "      <th>0</th>\n",
       "      <td>1</td>\n",
       "      <td>Beverages</td>\n",
       "      <td>Soft drinks, coffees, teas, beers, and ales</td>\n",
       "    </tr>\n",
       "    <tr>\n",
       "      <th>1</th>\n",
       "      <td>2</td>\n",
       "      <td>Condiments</td>\n",
       "      <td>Sweet and savory sauces, relishes, spreads, an...</td>\n",
       "    </tr>\n",
       "    <tr>\n",
       "      <th>2</th>\n",
       "      <td>3</td>\n",
       "      <td>Confections</td>\n",
       "      <td>Desserts, candies, and sweet breads</td>\n",
       "    </tr>\n",
       "    <tr>\n",
       "      <th>3</th>\n",
       "      <td>4</td>\n",
       "      <td>Dairy Products</td>\n",
       "      <td>Cheeses</td>\n",
       "    </tr>\n",
       "    <tr>\n",
       "      <th>4</th>\n",
       "      <td>5</td>\n",
       "      <td>Grains/Cereals</td>\n",
       "      <td>Breads, crackers, pasta, and cereal</td>\n",
       "    </tr>\n",
       "  </tbody>\n",
       "</table>\n",
       "</div>"
      ],
      "text/plain": [
       "   CategoryID    CategoryName  \\\n",
       "0           1       Beverages   \n",
       "1           2      Condiments   \n",
       "2           3     Confections   \n",
       "3           4  Dairy Products   \n",
       "4           5  Grains/Cereals   \n",
       "\n",
       "                                         Description  \n",
       "0        Soft drinks, coffees, teas, beers, and ales  \n",
       "1  Sweet and savory sauces, relishes, spreads, an...  \n",
       "2                Desserts, candies, and sweet breads  \n",
       "3                                            Cheeses  \n",
       "4                Breads, crackers, pasta, and cereal  "
      ]
     },
     "execution_count": 7,
     "metadata": {},
     "output_type": "execute_result"
    }
   ],
   "source": [
    "# df --> dataframe demektir. sanal bir excel tablosu gibidir. yani ham dataya yani excel tutulan veri bozulmaz. \n",
    "df = pd.read_csv(filepath_or_buffer='data/categories.csv') # filepath_or_buffer argümanı ise veri setimizin yolunu yazmak için kullanıyoruz.\n",
    "df.head() # head fonksiyonu default olarak ilk 5 satırı yazrıdır."
   ]
  },
  {
   "cell_type": "code",
   "execution_count": 17,
   "id": "3f4a4825",
   "metadata": {},
   "outputs": [],
   "source": [
    "from string import ascii_lowercase\n",
    "\n",
    "# asci_lowercase fonksiyonu bize küçük harf halinde a, b, c .... z bize teslim edecek.\n",
    "# output --> 'abcdefghijklmnopqrstuvwxyz'\n",
    "# bu kod---> list(ascii_lowercase[:len(df)]) bize 'abcdefgh' bu ifadeyi verir.\n",
    "# veri setinin 0, 1, 2, 3 ... 8 olan index bilgilerini a, b, c, ... h yaptık\n",
    "df.index = list(ascii_lowercase[:len(df)])"
   ]
  },
  {
   "cell_type": "code",
   "execution_count": 8,
   "id": "a2620f80",
   "metadata": {},
   "outputs": [
    {
     "data": {
      "text/html": [
       "<div>\n",
       "<style scoped>\n",
       "    .dataframe tbody tr th:only-of-type {\n",
       "        vertical-align: middle;\n",
       "    }\n",
       "\n",
       "    .dataframe tbody tr th {\n",
       "        vertical-align: top;\n",
       "    }\n",
       "\n",
       "    .dataframe thead th {\n",
       "        text-align: right;\n",
       "    }\n",
       "</style>\n",
       "<table border=\"1\" class=\"dataframe\">\n",
       "  <thead>\n",
       "    <tr style=\"text-align: right;\">\n",
       "      <th></th>\n",
       "      <th>CategoryID</th>\n",
       "      <th>CategoryName</th>\n",
       "      <th>Description</th>\n",
       "    </tr>\n",
       "  </thead>\n",
       "  <tbody>\n",
       "    <tr>\n",
       "      <th>0</th>\n",
       "      <td>1</td>\n",
       "      <td>Beverages</td>\n",
       "      <td>Soft drinks, coffees, teas, beers, and ales</td>\n",
       "    </tr>\n",
       "    <tr>\n",
       "      <th>1</th>\n",
       "      <td>2</td>\n",
       "      <td>Condiments</td>\n",
       "      <td>Sweet and savory sauces, relishes, spreads, an...</td>\n",
       "    </tr>\n",
       "    <tr>\n",
       "      <th>2</th>\n",
       "      <td>3</td>\n",
       "      <td>Confections</td>\n",
       "      <td>Desserts, candies, and sweet breads</td>\n",
       "    </tr>\n",
       "    <tr>\n",
       "      <th>3</th>\n",
       "      <td>4</td>\n",
       "      <td>Dairy Products</td>\n",
       "      <td>Cheeses</td>\n",
       "    </tr>\n",
       "    <tr>\n",
       "      <th>4</th>\n",
       "      <td>5</td>\n",
       "      <td>Grains/Cereals</td>\n",
       "      <td>Breads, crackers, pasta, and cereal</td>\n",
       "    </tr>\n",
       "    <tr>\n",
       "      <th>5</th>\n",
       "      <td>6</td>\n",
       "      <td>Meat/Poultry</td>\n",
       "      <td>Prepared meats</td>\n",
       "    </tr>\n",
       "    <tr>\n",
       "      <th>6</th>\n",
       "      <td>7</td>\n",
       "      <td>Produce</td>\n",
       "      <td>Dried fruit and bean curd</td>\n",
       "    </tr>\n",
       "    <tr>\n",
       "      <th>7</th>\n",
       "      <td>8</td>\n",
       "      <td>Seafood</td>\n",
       "      <td>Seaweed and fish</td>\n",
       "    </tr>\n",
       "  </tbody>\n",
       "</table>\n",
       "</div>"
      ],
      "text/plain": [
       "   CategoryID    CategoryName  \\\n",
       "0           1       Beverages   \n",
       "1           2      Condiments   \n",
       "2           3     Confections   \n",
       "3           4  Dairy Products   \n",
       "4           5  Grains/Cereals   \n",
       "5           6    Meat/Poultry   \n",
       "6           7         Produce   \n",
       "7           8         Seafood   \n",
       "\n",
       "                                         Description  \n",
       "0        Soft drinks, coffees, teas, beers, and ales  \n",
       "1  Sweet and savory sauces, relishes, spreads, an...  \n",
       "2                Desserts, candies, and sweet breads  \n",
       "3                                            Cheeses  \n",
       "4                Breads, crackers, pasta, and cereal  \n",
       "5                                     Prepared meats  \n",
       "6                          Dried fruit and bean curd  \n",
       "7                                   Seaweed and fish  "
      ]
     },
     "execution_count": 8,
     "metadata": {},
     "output_type": "execute_result"
    }
   ],
   "source": [
    "df.head(8)"
   ]
  },
  {
   "cell_type": "code",
   "execution_count": 9,
   "id": "7cd42603",
   "metadata": {},
   "outputs": [
    {
     "data": {
      "text/plain": [
       "(8, 3)"
      ]
     },
     "execution_count": 9,
     "metadata": {},
     "output_type": "execute_result"
    }
   ],
   "source": [
    "# veri setimiz kaç satırdan ve sütundan oluşuyor\n",
    "df.shape"
   ]
  },
  {
   "cell_type": "code",
   "execution_count": 10,
   "id": "157ba10a",
   "metadata": {},
   "outputs": [
    {
     "data": {
      "text/plain": [
       "CategoryID       int64\n",
       "CategoryName    object\n",
       "Description     object\n",
       "dtype: object"
      ]
     },
     "execution_count": 10,
     "metadata": {},
     "output_type": "execute_result"
    }
   ],
   "source": [
    "# veri setimizde ki verilerin tipini ekrana yazdırır\n",
    "df.dtypes"
   ]
  },
  {
   "cell_type": "code",
   "execution_count": 11,
   "id": "0aa081e9",
   "metadata": {},
   "outputs": [
    {
     "data": {
      "text/plain": [
       "0         Beverages\n",
       "1        Condiments\n",
       "2       Confections\n",
       "3    Dairy Products\n",
       "4    Grains/Cereals\n",
       "5      Meat/Poultry\n",
       "6           Produce\n",
       "7           Seafood\n",
       "Name: CategoryName, dtype: object"
      ]
     },
     "execution_count": 11,
     "metadata": {},
     "output_type": "execute_result"
    }
   ],
   "source": [
    "# Tek sütünu seçmek panda serisi olarak\n",
    "df['CategoryName'] # burada veri pandas series"
   ]
  },
  {
   "cell_type": "code",
   "execution_count": 12,
   "id": "d7a4c455",
   "metadata": {},
   "outputs": [
    {
     "data": {
      "text/html": [
       "<div>\n",
       "<style scoped>\n",
       "    .dataframe tbody tr th:only-of-type {\n",
       "        vertical-align: middle;\n",
       "    }\n",
       "\n",
       "    .dataframe tbody tr th {\n",
       "        vertical-align: top;\n",
       "    }\n",
       "\n",
       "    .dataframe thead th {\n",
       "        text-align: right;\n",
       "    }\n",
       "</style>\n",
       "<table border=\"1\" class=\"dataframe\">\n",
       "  <thead>\n",
       "    <tr style=\"text-align: right;\">\n",
       "      <th></th>\n",
       "      <th>CategoryName</th>\n",
       "    </tr>\n",
       "  </thead>\n",
       "  <tbody>\n",
       "    <tr>\n",
       "      <th>0</th>\n",
       "      <td>Beverages</td>\n",
       "    </tr>\n",
       "    <tr>\n",
       "      <th>1</th>\n",
       "      <td>Condiments</td>\n",
       "    </tr>\n",
       "    <tr>\n",
       "      <th>2</th>\n",
       "      <td>Confections</td>\n",
       "    </tr>\n",
       "    <tr>\n",
       "      <th>3</th>\n",
       "      <td>Dairy Products</td>\n",
       "    </tr>\n",
       "    <tr>\n",
       "      <th>4</th>\n",
       "      <td>Grains/Cereals</td>\n",
       "    </tr>\n",
       "    <tr>\n",
       "      <th>5</th>\n",
       "      <td>Meat/Poultry</td>\n",
       "    </tr>\n",
       "    <tr>\n",
       "      <th>6</th>\n",
       "      <td>Produce</td>\n",
       "    </tr>\n",
       "    <tr>\n",
       "      <th>7</th>\n",
       "      <td>Seafood</td>\n",
       "    </tr>\n",
       "  </tbody>\n",
       "</table>\n",
       "</div>"
      ],
      "text/plain": [
       "     CategoryName\n",
       "0       Beverages\n",
       "1      Condiments\n",
       "2     Confections\n",
       "3  Dairy Products\n",
       "4  Grains/Cereals\n",
       "5    Meat/Poultry\n",
       "6         Produce\n",
       "7         Seafood"
      ]
     },
     "execution_count": 12,
     "metadata": {},
     "output_type": "execute_result"
    }
   ],
   "source": [
    "# Tek sütunu dafaframe olarak seçme\n",
    "df[['CategoryName']]"
   ]
  },
  {
   "cell_type": "markdown",
   "id": "a6df95c5",
   "metadata": {},
   "source": [
    "## Select\n",
    "\n",
    "#### Python'da iki tip selector bulumaktadır:\n",
    "\n",
    "+ <b>loc:</b> Pandas kütüphanesinde veri seçmek için kullanılan çok güçlü bir yöntemdir. Özellikle <i>etiket</i> yani satır ve sütun isimlerini üzerinden nokta atışı veri seçimi yani select işlemi yapılır. \"loc\" etiket bazlı selection yapar.\n",
    "\n",
    "+ <b>iloc:</b> Pandas kütüphanesinde veri seçmek için kullanılır. \"loc\" farkı ise \"iloc\" <i>pozisyona</i> göre seçim yapar yani satır numarası ve sütun numarası üzerinden işlem yapar. \"iloc\" integer bazlı yani satır ve sütun numarasına göre.\n",
    "\n",
    "<hr>\n",
    "\n",
    "<b>Dilimleme: </b> <i>Hem \"loc\" hemde \"iloc\" ile tıpkı python'da ki gibi dilimleme yapılabilinir.</i>"
   ]
  },
  {
   "cell_type": "code",
   "execution_count": 16,
   "id": "9912cf95",
   "metadata": {},
   "outputs": [
    {
     "data": {
      "text/plain": [
       "0         Beverages\n",
       "1        Condiments\n",
       "2       Confections\n",
       "3    Dairy Products\n",
       "4    Grains/Cereals\n",
       "5      Meat/Poultry\n",
       "6           Produce\n",
       "7           Seafood\n",
       "Name: CategoryName, dtype: object"
      ]
     },
     "execution_count": 16,
     "metadata": {},
     "output_type": "execute_result"
    }
   ],
   "source": [
    "# loc example\n",
    "# loc içerisinde ilk kullanılan ifade:\n",
    "#  \":\" --> bütün satırlar demek\n",
    "# 'CategoryName' --> seçilmek istenilen sütunu ifade eder.\n",
    "# o halde \"loc\" kullanımında ilk argüman satır ikinci argüman sütunu temsil eder\n",
    "# df.loc['satır etiketi', 'sütun etiketi']\n",
    "df.loc[:, 'CategoryName']"
   ]
  },
  {
   "cell_type": "code",
   "execution_count": 18,
   "id": "f5129721",
   "metadata": {},
   "outputs": [
    {
     "data": {
      "text/plain": [
       "'Seafood'"
      ]
     },
     "execution_count": 18,
     "metadata": {},
     "output_type": "execute_result"
    }
   ],
   "source": [
    "# Seafood verisini loc kullanarak getir.\n",
    "df.loc['h', 'CategoryName']"
   ]
  },
  {
   "cell_type": "code",
   "execution_count": 30,
   "id": "dc1465eb",
   "metadata": {},
   "outputs": [
    {
     "data": {
      "text/plain": [
       "c       Confections\n",
       "d    Dairy Products\n",
       "e    Grains/Cereals\n",
       "f      Meat/Poultry\n",
       "Name: CategoryName, dtype: object"
      ]
     },
     "execution_count": 30,
     "metadata": {},
     "output_type": "execute_result"
    }
   ],
   "source": [
    "# Dairy Products, Grains/Cereals, Meat/Poultry verilerini loc kullanarak getirin\n",
    "df.loc['c':'f', 'CategoryName']"
   ]
  },
  {
   "cell_type": "code",
   "execution_count": 19,
   "id": "3c8b6c55",
   "metadata": {},
   "outputs": [
    {
     "data": {
      "text/plain": [
       "CategoryID                              7\n",
       "CategoryName                      Produce\n",
       "Description     Dried fruit and bean curd\n",
       "Name: g, dtype: object"
      ]
     },
     "execution_count": 19,
     "metadata": {},
     "output_type": "execute_result"
    }
   ],
   "source": [
    "# Bana belirli bir satırıdaki tüm veriyi getirin (loc)\n",
    "df.loc['g']"
   ]
  },
  {
   "cell_type": "code",
   "execution_count": 20,
   "id": "fa57cb1e",
   "metadata": {},
   "outputs": [
    {
     "data": {
      "text/html": [
       "<div>\n",
       "<style scoped>\n",
       "    .dataframe tbody tr th:only-of-type {\n",
       "        vertical-align: middle;\n",
       "    }\n",
       "\n",
       "    .dataframe tbody tr th {\n",
       "        vertical-align: top;\n",
       "    }\n",
       "\n",
       "    .dataframe thead th {\n",
       "        text-align: right;\n",
       "    }\n",
       "</style>\n",
       "<table border=\"1\" class=\"dataframe\">\n",
       "  <thead>\n",
       "    <tr style=\"text-align: right;\">\n",
       "      <th></th>\n",
       "      <th>CategoryName</th>\n",
       "      <th>Description</th>\n",
       "    </tr>\n",
       "  </thead>\n",
       "  <tbody>\n",
       "    <tr>\n",
       "      <th>a</th>\n",
       "      <td>Beverages</td>\n",
       "      <td>Soft drinks, coffees, teas, beers, and ales</td>\n",
       "    </tr>\n",
       "    <tr>\n",
       "      <th>h</th>\n",
       "      <td>Seafood</td>\n",
       "      <td>Seaweed and fish</td>\n",
       "    </tr>\n",
       "  </tbody>\n",
       "</table>\n",
       "</div>"
      ],
      "text/plain": [
       "  CategoryName                                  Description\n",
       "a    Beverages  Soft drinks, coffees, teas, beers, and ales\n",
       "h      Seafood                             Seaweed and fish"
      ]
     },
     "execution_count": 20,
     "metadata": {},
     "output_type": "execute_result"
    }
   ],
   "source": [
    "# 0 ve 7 satır ile CategoryName, Description satırlarını getirin\n",
    "df.loc[['a', 'h'], ['CategoryName', 'Description']]"
   ]
  },
  {
   "cell_type": "code",
   "execution_count": 21,
   "id": "a7817b26",
   "metadata": {},
   "outputs": [
    {
     "data": {
      "text/html": [
       "<div>\n",
       "<style scoped>\n",
       "    .dataframe tbody tr th:only-of-type {\n",
       "        vertical-align: middle;\n",
       "    }\n",
       "\n",
       "    .dataframe tbody tr th {\n",
       "        vertical-align: top;\n",
       "    }\n",
       "\n",
       "    .dataframe thead th {\n",
       "        text-align: right;\n",
       "    }\n",
       "</style>\n",
       "<table border=\"1\" class=\"dataframe\">\n",
       "  <thead>\n",
       "    <tr style=\"text-align: right;\">\n",
       "      <th></th>\n",
       "      <th>CategoryID</th>\n",
       "      <th>CategoryName</th>\n",
       "    </tr>\n",
       "  </thead>\n",
       "  <tbody>\n",
       "    <tr>\n",
       "      <th>a</th>\n",
       "      <td>1</td>\n",
       "      <td>Beverages</td>\n",
       "    </tr>\n",
       "    <tr>\n",
       "      <th>b</th>\n",
       "      <td>2</td>\n",
       "      <td>Condiments</td>\n",
       "    </tr>\n",
       "    <tr>\n",
       "      <th>c</th>\n",
       "      <td>3</td>\n",
       "      <td>Confections</td>\n",
       "    </tr>\n",
       "    <tr>\n",
       "      <th>d</th>\n",
       "      <td>4</td>\n",
       "      <td>Dairy Products</td>\n",
       "    </tr>\n",
       "  </tbody>\n",
       "</table>\n",
       "</div>"
      ],
      "text/plain": [
       "   CategoryID    CategoryName\n",
       "a           1       Beverages\n",
       "b           2      Condiments\n",
       "c           3     Confections\n",
       "d           4  Dairy Products"
      ]
     },
     "execution_count": 21,
     "metadata": {},
     "output_type": "execute_result"
    }
   ],
   "source": [
    "# 0 ile 3 satırlar ile CategoryID, CategoryName sütunlarını listeleyin\n",
    "df.loc['a':'d', ['CategoryID', 'CategoryName']]"
   ]
  },
  {
   "cell_type": "code",
   "execution_count": 22,
   "id": "0246876d",
   "metadata": {},
   "outputs": [
    {
     "data": {
      "text/html": [
       "<div>\n",
       "<style scoped>\n",
       "    .dataframe tbody tr th:only-of-type {\n",
       "        vertical-align: middle;\n",
       "    }\n",
       "\n",
       "    .dataframe tbody tr th {\n",
       "        vertical-align: top;\n",
       "    }\n",
       "\n",
       "    .dataframe thead th {\n",
       "        text-align: right;\n",
       "    }\n",
       "</style>\n",
       "<table border=\"1\" class=\"dataframe\">\n",
       "  <thead>\n",
       "    <tr style=\"text-align: right;\">\n",
       "      <th></th>\n",
       "      <th>CategoryName</th>\n",
       "      <th>Description</th>\n",
       "    </tr>\n",
       "  </thead>\n",
       "  <tbody>\n",
       "    <tr>\n",
       "      <th>a</th>\n",
       "      <td>Beverages</td>\n",
       "      <td>Soft drinks, coffees, teas, beers, and ales</td>\n",
       "    </tr>\n",
       "    <tr>\n",
       "      <th>b</th>\n",
       "      <td>Condiments</td>\n",
       "      <td>Sweet and savory sauces, relishes, spreads, an...</td>\n",
       "    </tr>\n",
       "    <tr>\n",
       "      <th>c</th>\n",
       "      <td>Confections</td>\n",
       "      <td>Desserts, candies, and sweet breads</td>\n",
       "    </tr>\n",
       "    <tr>\n",
       "      <th>d</th>\n",
       "      <td>Dairy Products</td>\n",
       "      <td>Cheeses</td>\n",
       "    </tr>\n",
       "    <tr>\n",
       "      <th>e</th>\n",
       "      <td>Grains/Cereals</td>\n",
       "      <td>Breads, crackers, pasta, and cereal</td>\n",
       "    </tr>\n",
       "    <tr>\n",
       "      <th>f</th>\n",
       "      <td>Meat/Poultry</td>\n",
       "      <td>Prepared meats</td>\n",
       "    </tr>\n",
       "    <tr>\n",
       "      <th>g</th>\n",
       "      <td>Produce</td>\n",
       "      <td>Dried fruit and bean curd</td>\n",
       "    </tr>\n",
       "    <tr>\n",
       "      <th>h</th>\n",
       "      <td>Seafood</td>\n",
       "      <td>Seaweed and fish</td>\n",
       "    </tr>\n",
       "  </tbody>\n",
       "</table>\n",
       "</div>"
      ],
      "text/plain": [
       "     CategoryName                                        Description\n",
       "a       Beverages        Soft drinks, coffees, teas, beers, and ales\n",
       "b      Condiments  Sweet and savory sauces, relishes, spreads, an...\n",
       "c     Confections                Desserts, candies, and sweet breads\n",
       "d  Dairy Products                                            Cheeses\n",
       "e  Grains/Cereals                Breads, crackers, pasta, and cereal\n",
       "f    Meat/Poultry                                     Prepared meats\n",
       "g         Produce                          Dried fruit and bean curd\n",
       "h         Seafood                                   Seaweed and fish"
      ]
     },
     "execution_count": 22,
     "metadata": {},
     "output_type": "execute_result"
    }
   ],
   "source": [
    "# CategoryName ve Desciption sutunların tüm satırlarını listeleyin\n",
    "df.loc[:, ['CategoryName', 'Description']]"
   ]
  },
  {
   "cell_type": "code",
   "execution_count": 23,
   "id": "6a0a2232",
   "metadata": {},
   "outputs": [
    {
     "data": {
      "text/plain": [
       "'Seafood'"
      ]
     },
     "execution_count": 23,
     "metadata": {},
     "output_type": "execute_result"
    }
   ],
   "source": [
    "# iloc kullanarak bana 7 satırın categoryname getir\n",
    "df.iloc[7, 1]"
   ]
  },
  {
   "cell_type": "code",
   "execution_count": 24,
   "id": "45cddb55",
   "metadata": {},
   "outputs": [
    {
     "data": {
      "text/plain": [
       "b     Condiments\n",
       "c    Confections\n",
       "Name: CategoryName, dtype: object"
      ]
     },
     "execution_count": 24,
     "metadata": {},
     "output_type": "execute_result"
    }
   ],
   "source": [
    "# 1. ve 3. satırları ile categoryname getirelim\n",
    "df.iloc[1:3, 1]"
   ]
  },
  {
   "cell_type": "code",
   "execution_count": 25,
   "id": "4fbb90eb",
   "metadata": {},
   "outputs": [
    {
     "data": {
      "text/html": [
       "<div>\n",
       "<style scoped>\n",
       "    .dataframe tbody tr th:only-of-type {\n",
       "        vertical-align: middle;\n",
       "    }\n",
       "\n",
       "    .dataframe tbody tr th {\n",
       "        vertical-align: top;\n",
       "    }\n",
       "\n",
       "    .dataframe thead th {\n",
       "        text-align: right;\n",
       "    }\n",
       "</style>\n",
       "<table border=\"1\" class=\"dataframe\">\n",
       "  <thead>\n",
       "    <tr style=\"text-align: right;\">\n",
       "      <th></th>\n",
       "      <th>CategoryName</th>\n",
       "      <th>Description</th>\n",
       "    </tr>\n",
       "  </thead>\n",
       "  <tbody>\n",
       "    <tr>\n",
       "      <th>b</th>\n",
       "      <td>Condiments</td>\n",
       "      <td>Sweet and savory sauces, relishes, spreads, an...</td>\n",
       "    </tr>\n",
       "    <tr>\n",
       "      <th>h</th>\n",
       "      <td>Seafood</td>\n",
       "      <td>Seaweed and fish</td>\n",
       "    </tr>\n",
       "  </tbody>\n",
       "</table>\n",
       "</div>"
      ],
      "text/plain": [
       "  CategoryName                                        Description\n",
       "b   Condiments  Sweet and savory sauces, relishes, spreads, an...\n",
       "h      Seafood                                   Seaweed and fish"
      ]
     },
     "execution_count": 25,
     "metadata": {},
     "output_type": "execute_result"
    }
   ],
   "source": [
    "# sadece 1. ve 7. satıları, categoryname ve description sütunlarını getirelim\n",
    "df.iloc[[1, 7], [1, 2]]"
   ]
  },
  {
   "cell_type": "markdown",
   "id": "64d416f5",
   "metadata": {},
   "source": []
  }
 ],
 "metadata": {
  "kernelspec": {
   "display_name": "Python 3",
   "language": "python",
   "name": "python3"
  },
  "language_info": {
   "codemirror_mode": {
    "name": "ipython",
    "version": 3
   },
   "file_extension": ".py",
   "mimetype": "text/x-python",
   "name": "python",
   "nbconvert_exporter": "python",
   "pygments_lexer": "ipython3",
   "version": "3.13.1"
  }
 },
 "nbformat": 4,
 "nbformat_minor": 5
}
