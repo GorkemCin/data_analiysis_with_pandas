{
 "cells": [
  {
   "cell_type": "code",
   "execution_count": 4,
   "id": "bd4d0757",
   "metadata": {},
   "outputs": [
    {
     "ename": "ModuleNotFoundError",
     "evalue": "No module named 'pandas'",
     "output_type": "error",
     "traceback": [
      "\u001b[31m---------------------------------------------------------------------------\u001b[39m",
      "\u001b[31mModuleNotFoundError\u001b[39m                       Traceback (most recent call last)",
      "\u001b[36mCell\u001b[39m\u001b[36m \u001b[39m\u001b[32mIn[4]\u001b[39m\u001b[32m, line 1\u001b[39m\n\u001b[32m----> \u001b[39m\u001b[32m1\u001b[39m \u001b[38;5;28;01mimport\u001b[39;00m\u001b[38;5;250m \u001b[39m\u001b[34;01mpandas\u001b[39;00m\u001b[38;5;250m \u001b[39m\u001b[38;5;28;01mas\u001b[39;00m\u001b[38;5;250m \u001b[39m\u001b[34;01mpd\u001b[39;00m\n",
      "\u001b[31mModuleNotFoundError\u001b[39m: No module named 'pandas'"
     ]
    }
   ],
   "source": [
    "import pandas as pd\n"
   ]
  },
  {
   "cell_type": "code",
   "execution_count": null,
   "id": "caad1a70",
   "metadata": {},
   "outputs": [],
   "source": [
    "# df --> dataframe demektir. sanal bir excel tablosu gibidir. yani ham dataya yani excel tutulan veri bozulmaz. \n",
    "# read_csv ile datayı çekiyoruz.\n",
    "df = pd.read_csv(filepath_or_buffer='data/categories.csv') # filepath_or_buffer argümanı ise veri setimizin yolunu yazmak için kullanıyoruz.\n",
    "df.head() # head fonksiyonu default olarak ilk 5 satırı yazdırıyoruz."
   ]
  },
  {
   "cell_type": "code",
   "execution_count": null,
   "id": "7b818567",
   "metadata": {},
   "outputs": [],
   "source": [
    "# Harf getirme işlemi\n",
    "# # from string import ascii_lowercase\n",
    "\n",
    "# asci_lowercase fonksiyonu bize küçük harf halinde a, b, c .... z bize teslim edecek.\n",
    "# output --> 'abcdefghijklmnopqrstuvwxyz'\n",
    "# bu kod---> list(ascii_lowercase[:len(df)]) bize 'abcdefgh' bu ifadeyi verir.\n",
    "# veri setinin 0, 1, 2, 3 ... 8 olan index bilgilerini a, b, c, ... h yapar.\n",
    "# df.index = list(ascii_lowercase[:len(df)])"
   ]
  },
  {
   "cell_type": "code",
   "execution_count": null,
   "id": "ddda4ef8",
   "metadata": {},
   "outputs": [],
   "source": [
    "# veri setimiz kaç satırdan ve sütundan oluştuğunu gösterir.\n",
    "df.shape\n",
    "\n"
   ]
  },
  {
   "cell_type": "code",
   "execution_count": null,
   "id": "973e3f0a",
   "metadata": {},
   "outputs": [],
   "source": [
    "# veri setimizde ki verilerin tipini ekrana yazdırır.\n",
    "df.dtypes"
   ]
  },
  {
   "cell_type": "code",
   "execution_count": null,
   "id": "82d51321",
   "metadata": {},
   "outputs": [],
   "source": [
    "# Tek sütünu panda serisi olarak seçer.\n",
    "df['CategoryName'] "
   ]
  },
  {
   "cell_type": "code",
   "execution_count": null,
   "id": "713015a1",
   "metadata": {},
   "outputs": [],
   "source": [
    "# Tek sütünu dataframe olarak seçer.\n",
    "df[['CategoryName']]"
   ]
  },
  {
   "cell_type": "markdown",
   "id": "841005fb",
   "metadata": {},
   "source": [
    "## Select\n",
    "\n",
    "#### Python'da iki tip selector bulumaktadır:\n",
    "\n",
    "+ <b>loc:</b> Pandas kütüphanesinde veri seçmek için kullanılan çok güçlü bir yöntemdir. Özellikle <i>etiket</i> yani satır ve sütun isimlerini üzerinden nokta atışı veri seçimi yani select işlemi yapılır. \"loc\" etiket bazlı selection yapar.\n",
    "\n",
    "+ <b>iloc:</b> Pandas kütüphanesinde veri seçmek için kullanılır. \"loc\" farkı ise \"iloc\" <i>pozisyona</i> göre seçim yapar yani satır numarası ve sütun numarası üzerinden işlem yapar. \"iloc\" integer bazlı yani satır ve sütun numarasına göre.\n",
    "\n",
    "<hr>\n",
    "\n",
    "<b>Dilimleme: </b> <i>Hem \"loc\" hemde \"iloc\" ile tıpkı python'da ki gibi dilimleme yapılabilinir.</i>"
   ]
  },
  {
   "cell_type": "code",
   "execution_count": null,
   "id": "05ce3070",
   "metadata": {},
   "outputs": [],
   "source": [
    "# loc example\n",
    "# loc içerisinde ilk kullanılan ifade:\n",
    "#  \":\" --> bütün satırlar demek\n",
    "# 'CategoryName' --> seçilmek istenilen sütunu ifade eder.\n",
    "# o halde \"loc\" kullanımında ilk argüman satır ikinci argüman sütunu temsil eder\n",
    "# df.loc['satır etiketi', 'sütun etiketi']\n",
    "df.loc[:, 'CategoryName']"
   ]
  },
  {
   "cell_type": "code",
   "execution_count": null,
   "id": "ea09b1d7",
   "metadata": {},
   "outputs": [],
   "source": [
    "# Seafood verisini loc kullanarak getirelim\n",
    "df.loc[7, 'CategoryName']"
   ]
  },
  {
   "cell_type": "code",
   "execution_count": null,
   "id": "c3cc7ade",
   "metadata": {},
   "outputs": [],
   "source": [
    "# Dairy Products, Grains/Cereals, Meat/Poultry verilerini loc kullanarak getirelim\n",
    "df.loc[3:5, 'CategoryName']"
   ]
  },
  {
   "cell_type": "code",
   "execution_count": null,
   "id": "ab40c6a7",
   "metadata": {},
   "outputs": [],
   "source": [
    "# Dataframe olarak (loc) belirli bir satırıdaki tüm veriyi getirir\n",
    "df.loc[[3]]"
   ]
  },
  {
   "cell_type": "code",
   "execution_count": null,
   "id": "2378773d",
   "metadata": {},
   "outputs": [],
   "source": [
    "# Pandas serisi olarak (loc) belirli bir satırıdaki tüm veriyi getirir\n",
    "df.loc[3]"
   ]
  },
  {
   "cell_type": "code",
   "execution_count": null,
   "id": "1c8528be",
   "metadata": {},
   "outputs": [],
   "source": [
    "# 0 ve 7 satır ile CategoryName, Description satırlarını getirir\n",
    "df.loc[[0, 7], ['CategoryName', 'Description']]"
   ]
  },
  {
   "cell_type": "code",
   "execution_count": null,
   "id": "f6ffa7e5",
   "metadata": {},
   "outputs": [],
   "source": [
    "# 0 ile 3 satırlar ile CategoryID, CategoryName sütunlarını listeler\n",
    "df.loc[0:3, ['CategoryID', 'CategoryName']]"
   ]
  },
  {
   "cell_type": "code",
   "execution_count": null,
   "id": "15055bc8",
   "metadata": {},
   "outputs": [],
   "source": [
    "# CategoryName, CategoryID ve Description sutunların tüm satırlarını listeler\n",
    "df.loc[:, ['CategoryName', 'CategoryID', 'Description']]"
   ]
  },
  {
   "cell_type": "code",
   "execution_count": null,
   "id": "1f2e9218",
   "metadata": {},
   "outputs": [],
   "source": [
    "# iloc kullanarak bana 7 satırın CategoryName getirelim. \n",
    "df.iloc[7, 1] "
   ]
  },
  {
   "cell_type": "code",
   "execution_count": null,
   "id": "40e6ca72",
   "metadata": {},
   "outputs": [],
   "source": [
    "# 1. ve 3. satırları arası CategoryName getirelim.\n",
    "df.iloc[1:3, 1]"
   ]
  },
  {
   "cell_type": "code",
   "execution_count": null,
   "id": "26bce65f",
   "metadata": {},
   "outputs": [],
   "source": [
    "# sadece 1. ve 7. satıları, CategoryName ve Description sütunlarını getirelim\n",
    "df.iloc[[1, 7], [1, 2]]"
   ]
  },
  {
   "cell_type": "code",
   "execution_count": null,
   "id": "c0aeb6e6",
   "metadata": {},
   "outputs": [],
   "source": [
    "# Şimdi başka bir data çekip loc ve iloc örnekleri yapalım\n",
    "# read_csv() ile datayı çekelim\n",
    "# df.head() # listedeki ilk 5 sıralamasını yaptık\n",
    "df = pd.read_csv(filepath_or_buffer='data/nba.csv') \n",
    "# df.head(1) # () içine örneğin 1 yazarsak 1. satırı çeker\n",
    "df.head() "
   ]
  },
  {
   "cell_type": "code",
   "execution_count": null,
   "id": "206927aa",
   "metadata": {},
   "outputs": [
    {
     "ename": "IndentationError",
     "evalue": "unindent does not match any outer indentation level (<string>, line 26)",
     "output_type": "error",
     "traceback": [
      "  \u001b[36mFile \u001b[39m\u001b[32m<string>:26\u001b[39m\n\u001b[31m    \u001b[39m\u001b[31mdf.index = list(get_labels(len(df)))\u001b[39m\n                                        ^\n\u001b[31mIndentationError\u001b[39m\u001b[31m:\u001b[39m unindent does not match any outer indentation level\n"
     ]
    }
   ],
   "source": [
    "from itertools import cycle\n",
    "from string import ascii_lowercase\n",
    "\n",
    "\n",
    "# asci_lowercase() fonksiyonu bize küçük harf halinde a,b,c ...z bize teslim edecek.\n",
    "# output --> 'abcdefghijklmnopqrstuvwxyz'\n",
    "# df.index=list(ascii_lowercase[:len(df)]) fakat burada yazacağımız kod hata ValueError almamıza sebep olacaktır çünkü kullandığımız datada\n",
    "#  457 satır bulunmaktadır. fakat fonksiyon bize sadece 26 tane harf ataması yapmaktadır.\n",
    "\n",
    "\n",
    "# atanan 26 harfden sonra yani 'z' indexinden sonra farklı kombinasyonlarda index atanması için from itertools import cycle'ı import etmemiz gerekmektdir\n",
    "# bu atama bizde 'z' indexinden sonra 'aa', 'ab', 'bb' gibi indexler atanmasına yardımcı olacaktır.\n",
    "\n",
    "labels = list(itertools.islice(itertools.cycle(ascii_lowercase), len(df)))\n",
    "\n",
    "\n",
    "def get_labels(n):\n",
    "     from itertools import product\n",
    "     for size in range(1, 5):  # 1'den 4 harfe kadar kombinasyon dene\n",
    "         for p in product(ascii_lowercase, repeat=size):\n",
    "             yield ''.join(p)\n",
    "             n -= 1\n",
    "             if n == 0:\n",
    "                 return\n",
    "\n",
    " df.index = list(get_labels(len(df)))"
   ]
  }
 ],
 "metadata": {
  "kernelspec": {
   "display_name": ".venv",
   "language": "python",
   "name": "python3"
  },
  "language_info": {
   "codemirror_mode": {
    "name": "ipython",
    "version": 3
   },
   "file_extension": ".py",
   "mimetype": "text/x-python",
   "name": "python",
   "nbconvert_exporter": "python",
   "pygments_lexer": "ipython3",
   "version": "3.13.3"
  }
 },
 "nbformat": 4,
 "nbformat_minor": 5
}
